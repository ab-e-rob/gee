{
 "cells": [
  {
   "cell_type": "code",
   "execution_count": null,
   "metadata": {
    "collapsed": true,
    "is_executing": true
   },
   "outputs": [],
   "source": [
    "import pandas as pd\n",
    "import matplotlib.pyplot as plt\n",
    "\n",
    "# Read stats\\min_max_months_combined_grouped.csv\n",
    "df_min_max_months_combined_grouped = pd.read_csv('stats\\min_max_months_combined_grouped.csv')\n",
    "\n",
    "# Read stats\\wetland_lat.csv\n",
    "df_wetland_lat = pd.read_csv('stats\\wetland_lat.csv')\n"
   ]
  },
  {
   "cell_type": "code",
   "execution_count": null,
   "outputs": [],
   "source": [
    "# plot latitude data vs max month data\n",
    "plt.scatter(df_wetland_lat['Latitude'], df_min_max_months_combined_grouped['Max Month'])\n",
    "plt.xlabel('Latitude')\n",
    "plt.ylabel('Max Month')\n",
    "plt.title('Latitude vs Max Month')\n",
    "plt.show()\n",
    "\n"
   ],
   "metadata": {
    "collapsed": false
   }
  }
 ],
 "metadata": {
  "kernelspec": {
   "display_name": "Python 3",
   "language": "python",
   "name": "python3"
  },
  "language_info": {
   "codemirror_mode": {
    "name": "ipython",
    "version": 2
   },
   "file_extension": ".py",
   "mimetype": "text/x-python",
   "name": "python",
   "nbconvert_exporter": "python",
   "pygments_lexer": "ipython2",
   "version": "2.7.6"
  }
 },
 "nbformat": 4,
 "nbformat_minor": 0
}
